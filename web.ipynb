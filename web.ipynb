{
 "cells": [
  {
   "cell_type": "code",
   "execution_count": 119,
   "id": "e2ab8e5e",
   "metadata": {},
   "outputs": [
    {
     "name": "stderr",
     "output_type": "stream",
     "text": [
      "2022-03-04 13:19:40.243 \n",
      "  \u001b[33m\u001b[1mWarning:\u001b[0m to view this Streamlit app on a browser, run it with the following\n",
      "  command:\n",
      "\n",
      "    streamlit run C:\\Users\\Lenovo\\AppData\\Local\\Programs\\Python\\Python310\\lib\\site-packages\\ipykernel_launcher.py [ARGUMENTS]\n"
     ]
    }
   ],
   "source": [
    "\n",
    "import streamlit as st\n",
    "from PIL import Image\n",
    "import numpy as np\n",
    "import tensorflow.keras as keras\n",
    "import matplotlib.pyplot as plt\n",
    "import tensorflow_hub as hub\n",
    "\n",
    "hide_streamlit_style = \"\"\"\n",
    "            \n",
    "            #MainMenu {visibility: hidden;}\n",
    "            footer {visibility: hidden;}\n",
    "            \n",
    "            \"\"\"\n",
    "st.markdown(hide_streamlit_style, unsafe_allow_html = True)\n",
    "\n",
    "st.title('Potato Leaf Disease Prediction')\n",
    "\n",
    "def main() :\n",
    "    file_uploaded = st.file_uploader('Choose an image...', type = 'jpg')\n",
    "    if file_uploaded is not None :\n",
    "        image = Image.open(file_uploaded)\n",
    "        st.write(\"Uploaded Image.\")\n",
    "        figure = plt.figure()\n",
    "        plt.imshow(image)\n",
    "        plt.axis('off')\n",
    "        st.pyplot(figure)\n",
    "        result, confidence = predict_class(image)\n",
    "        st.write('Prediction : {}'.format(result))\n",
    "        st.write('Confidence : {}%'.format(confidence))\n",
    "\n",
    "def predict_class(image) :\n",
    "    with st.spinner('Loading Model...'):\n",
    "        classifier_model = keras.models.load_model(r'final_model.h5', compile = False)\n",
    "\n",
    "    shape = ((256,256,3))\n",
    "    model = keras.Sequential([hub.KerasLayer(classifier_model, input_shape = shape)])     # ye bhi kaam kar raha he\n",
    "    test_image = image.resize((256, 256))\n",
    "    test_image = keras.preprocessing.image.img_to_array(test_image)\n",
    "    test_image /= 255.0\n",
    "    test_image = np.expand_dims(test_image, axis = 0)\n",
    "    class_name = ['Potato__Early_blight', 'Potato__Late_blight', 'Potato__healthy']\n",
    "\n",
    "    prediction = model.predict(test_image)\n",
    "    confidence = round(100 * (np.max(prediction[0])), 2)\n",
    "    final_pred = class_name[np.argmax(prediction)]\n",
    "    return final_pred, confidence\n"
   ]
  },
  {
   "cell_type": "code",
   "execution_count": null,
   "id": "f3e3fad1",
   "metadata": {},
   "outputs": [],
   "source": []
  }
 ],
 "metadata": {
  "kernelspec": {
   "display_name": "Python 3 (ipykernel)",
   "language": "python",
   "name": "python3"
  },
  "language_info": {
   "codemirror_mode": {
    "name": "ipython",
    "version": 3
   },
   "file_extension": ".py",
   "mimetype": "text/x-python",
   "name": "python",
   "nbconvert_exporter": "python",
   "pygments_lexer": "ipython3",
   "version": "3.10.2"
  }
 },
 "nbformat": 4,
 "nbformat_minor": 5
}
